{
  "nbformat": 4,
  "nbformat_minor": 0,
  "metadata": {
    "colab": {
      "provenance": [],
      "authorship_tag": "ABX9TyOKGdbBd5J1qZ0COIlcRxKi",
      "include_colab_link": true
    },
    "kernelspec": {
      "name": "python3",
      "display_name": "Python 3"
    },
    "language_info": {
      "name": "python"
    }
  },
  "cells": [
    {
      "cell_type": "markdown",
      "metadata": {
        "id": "view-in-github",
        "colab_type": "text"
      },
      "source": [
        "<a href=\"https://colab.research.google.com/github/karinaismayacantik8/Sistem-Pakar-_-Karina-Imaya-2306056/blob/main/CF_(CertainlyFactor).ipynb\" target=\"_parent\"><img src=\"https://colab.research.google.com/assets/colab-badge.svg\" alt=\"Open In Colab\"/></a>"
      ]
    },
    {
      "cell_type": "markdown",
      "source": [
        "**1.** **Ubah nilai CF gejala dan amati perubahan hasil**"
      ],
      "metadata": {
        "id": "3UXVjxA9hZWm"
      }
    },
    {
      "cell_type": "markdown",
      "source": [
        "**2.Tambahkan 5 gejala baru seperti dengan nilai CF**\n",
        "\n",
        "- Sakit kepla\n",
        "- Asma\n",
        "- Asam urat\n",
        "- Sakit perut\n",
        "- Diare"
      ],
      "metadata": {
        "id": "Y28pOVc-iNAI"
      }
    },
    {
      "cell_type": "code",
      "execution_count": 2,
      "metadata": {
        "colab": {
          "base_uri": "https://localhost:8080/"
        },
        "id": "_EZfUSNCduKy",
        "outputId": "11a80f61-5296-4b59-a793-9f694337b6bb"
      },
      "outputs": [
        {
          "output_type": "stream",
          "name": "stdout",
          "text": [
            "CF diagnosis Flu: 0.82\n",
            "CF diagnosis Flu (setelah demam diubah jadi 0.2): 0.82\n"
          ]
        }
      ],
      "source": [
        "gejala_user = {\n",
        "    \"demam\": 0.2,\n",
        "    \"batuk\": 0.5,\n",
        "    \"sakit_tenggorokan\": 0.6,\n",
        "\n",
        "    # 5 Gejala tambahan yang baru\n",
        "    \"sakit_kepala\": 0.5,\n",
        "    \"asma\": 0.3,\n",
        "    \"asam_urat\": 0.4,\n",
        "    \"sakit_perut\": 0.5,\n",
        "    \"diare\": 0.6\n",
        "}\n",
        "\n",
        "pengetahuan = {\n",
        "    \"flu\": {\n",
        "        \"demam\": 0.8,\n",
        "        \"batuk\": 0.7,\n",
        "        \"sakit_tenggorokan\": 0.6,\n",
        "    # 5 Pengetahuan Tambahan\n",
        "        \"sakit_kepala\": 0.6,\n",
        "        \"asma\": 0.1,\n",
        "        \"asam_urat\": 0.1,\n",
        "        \"sakit_perut\": 0.2,\n",
        "        \"diare\": 0.2\n",
        "    }\n",
        "}\n",
        "\n",
        "def hitung_cf(gejala_user, pengetahuan_pakar):\n",
        "    cf_total = 0\n",
        "    first = True\n",
        "    for gejala, cf_user in gejala_user.items():\n",
        "        if gejala in pengetahuan_pakar:\n",
        "            cf_pakar = pengetahuan_pakar[gejala]\n",
        "            cf = cf_user * cf_pakar  # CF_i = CF_user × CF_pakar\n",
        "            if first:\n",
        "                cf_total = cf\n",
        "                first = False\n",
        "            else:\n",
        "                cf_total = cf_total + cf * (1 - cf_total)  # CF combine\n",
        "    return cf_total\n",
        "\n",
        "# Hitung CF awal\n",
        "cf_flu = hitung_cf(gejala_user, pengetahuan[\"flu\"])\n",
        "print(f\"CF diagnosis Flu: {cf_flu:.2f}\")\n",
        "\n",
        "# SIMULASI: Ubah nilai demam menjadi 0.2\n",
        "gejala_user[\"demam\"] = 0.2\n",
        "\n",
        "# Hitung CF setelah perubahan nilai demam\n",
        "cf_flu_perubahan = hitung_cf(gejala_user, pengetahuan[\"flu\"])\n",
        "print(f\"CF diagnosis Flu (setelah demam diubah jadi 0.2): {cf_flu_perubahan:.2f}\")\n"
      ]
    },
    {
      "cell_type": "markdown",
      "source": [
        "**3. Jika \"demam\" diubah jadi 0.2, bagaimana hasilnya? Mengapa?**\n",
        "\n",
        "Jika kita ubah nilai \"demam\" menjadi 0.2, maka hasil Certainty Factor (CF) diagnosis flu akan turun. Kenapa?\n",
        "\n",
        "Karena \"demam\" adalah salah satu gejala yang penting untuk diagnosis flu, dan \"demam\" memiliki nilai CF pakar yang tinggi (0.8). Jadi, jika nilai CF user untuk \"demam\" diturunkan (misalnya dari 0.7 menjadi 0.2), itu berarti keyakinan kita terhadap gejala \"demam\" sebagai tanda flu jadi lebih rendah. Meskipun ada gejala lain yang tetap sama, penurunan \"demam\" akan langsung menurunkan hasil total diagnosis flu."
      ],
      "metadata": {
        "id": "wZqtPL4ohXzm"
      }
    },
    {
      "cell_type": "markdown",
      "source": [
        "**4. Jelaskan bagaimana hasil perubahannya**\n",
        "\n",
        "- Sebelum perubaha\n",
        "  \n",
        "  Sebelum \"demam\" diubah menjadi 0.2, nilai CF diagnosis flu dihitung berdasarkan CF_user yang lebih tinggi untuk \"demam\" (yaitu 0.7).\n",
        "\n",
        "  Dengan CF_user = 0.7 dan CF_pakar = 0.8 untuk \"demam\", hasil CF untuk gejala \"demam\" cukup besar, yaitu 0.7 * 0.8 = 0.56.\n",
        "\n",
        "  Ketika digabungkan dengan gejala lainnya (misalnya batuk, sakit tenggorokan, dan gejala baru lainnya), total CF menjadi lebih tinggi, karena kontribusi \"demam\" cukup besar.\n",
        "\n",
        "  Hasil perhitungan CF sebelum perubahan adalah lebih tinggi, karena \"demam\" memberikan kontribusi yang signifikan terhadap diagnosis flu.\n",
        "\n",
        "- Setelah perubahan\n",
        "\n",
        "  Setelah \"demam\" diubah menjadi 0.2, maka kontribusi dari \"demam\" terhadap diagnosis flu berkurang secara signifikan:\n",
        "\n",
        "  - CF_user untuk demam = 0.2, sedangkan CF_pakar untuk demam = 0.8, sehingga hasilnya adalah 0.2 * 0.8 = 0.16.\n",
        "\n",
        "  - Akibatnya, CF gabungan akan lebih kecil, karena salah satu gejala utama (yaitu \"demam\") yang memiliki bobot tinggi sekarang memberikan kontribusi yang jauh lebih rendah terhadap diagnosis.\n",
        "\n",
        "  - Total CF yang dihitung setelah perubahan ini lebih kecil karena pengaruh dari \"demam\" sangat dominan dalam perhitungan awal.\n",
        "\n",
        "  Secara keseluruhan, perubahan nilai demam ke 0.2 menurunkan total CF yang menunjukkan bahwa diagnosis flu menjadi kurang yakin. Hasil akhirnya berkurang karena kita mengurangi kontribusi dari gejala yang awalnya sangat kuat dalam mendukung diagnosis."
      ],
      "metadata": {
        "id": "O4IgfMqojcJc"
      }
    }
  ]
}